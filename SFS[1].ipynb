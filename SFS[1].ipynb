{
 "cells": [
  {
   "cell_type": "code",
   "execution_count": 1,
   "metadata": {},
   "outputs": [],
   "source": [
    "#Header files are included\n",
    "import pandas as pd\n",
    "import numpy as np\n",
    "import random\n",
    "from sklearn.metrics import accuracy_score #header file to get prediction accuracy\n",
    "import collections\n",
    "import itertools\n",
    "from sklearn.ensemble import RandomForestClassifier #for classification i choose random forest\n",
    "from sklearn.datasets import make_classification\n",
    "from sklearn.model_selection import train_test_split #splitting data\n",
    "df= pd.read_csv(\"Diabetic_retinopathy.csv\") #dataset\n",
    "import warnings\n",
    "warnings.filterwarnings(\"ignore\")"
   ]
  },
  {
   "cell_type": "code",
   "execution_count": 2,
   "metadata": {},
   "outputs": [],
   "source": [
    "def cross_validation(tatti): #cross validation\n",
    "    tatti=np.array_split(tatti,5) #splitting data\n",
    "    #print(tatti)\n",
    "    test=[]\n",
    "    acc=0\n",
    "    clf = RandomForestClassifier() #using random forest for classification\n",
    "    #print(ndf)\n",
    "    for i in range(len(tatti)):\n",
    "        tatti.append(tatti[i])\n",
    "        train=tatti[i+1:]      #splitting training,testing data according to class values\n",
    "        test.append(tatti[i])\n",
    "        frame=[train[i]]       #applying stratified cross_Validation\n",
    "        f_train=pd.concat(frame)\n",
    "        frama=[test[i]]\n",
    "        f_test=pd.concat(frama) #assigining train feature,train labels nd testing feature and testing labels\n",
    "        train_feature=f_train.drop(columns=['Class'])\n",
    "        train_label=f_train['Class']\n",
    "        #print(train_feature)\n",
    "        clf.fit(train_feature, train_label)\n",
    "        test_features=f_test.drop(columns=['Class'])\n",
    "        test_labels=f_test['Class']\n",
    "        #print(test_labels)\n",
    "        predictions = clf.predict(test_features) #predicting accuracy\n",
    "        acc+=accuracy_score(test_labels,predictions)\n",
    "    return (acc/5) #return acuracy"
   ]
  },
  {
   "cell_type": "code",
   "execution_count": 3,
   "metadata": {},
   "outputs": [],
   "source": [
    "def feature(feature_lis):\n",
    "    #print(df[feature_lis])\n",
    "    average=cross_validation(df[feature_lis]) #prediciting average accuracy according to feature in the dataset\n",
    "    return (average) #returning feature list"
   ]
  },
  {
   "cell_type": "code",
   "execution_count": 4,
   "metadata": {},
   "outputs": [
    {
     "name": "stdout",
     "output_type": "stream",
     "text": [
      "['EX1', 'MA2', 'MA5', 'MA1', 'MA4', 'EX4']\n"
     ]
    }
   ],
   "source": [
    "col_list=[\"Quality\",\"pre_screening\",\"MA1\",\"MA2\",\"MA3\",\"MA4\",\"MA5\",\"MA6\",\"EX1\",\"EX2\",\"EX3\",\"EX4\",\"EX5\",\"EX6\",\"EX7\",\"EX8\",\"EDIS_MA_OP\",\"OP_DISC\",\"AM/FM\"]\n",
    "y=[]#listing columns\n",
    "b=[]\n",
    "for i in range(20):\n",
    "    accuracy_lis=[] #getting accuracy list\n",
    "    for f in col_list:\n",
    "        if f not in y:\n",
    "            a=y.copy()\n",
    "            a.append(f)\n",
    "            a.append('Class')\n",
    "            ac=feature(a)\n",
    "            accuracy_lis.append((ac,f))\n",
    "    if(len(accuracy_lis)==0):          #for exception raise prevention\n",
    "        break\n",
    "    a=max(accuracy_lis)\n",
    "    b.append(a)\n",
    "    #print(y)\n",
    "    if(a<max(b)): # checking if there is accuracy incresaing or not\n",
    "        break\n",
    "    else:\n",
    "        f=a[1]  #adding of best feature in the list\n",
    "        y.append(f)\n",
    "print(y)#printing final columns\n"
   ]
  },
  {
   "cell_type": "code",
   "execution_count": null,
   "metadata": {},
   "outputs": [],
   "source": []
  }
 ],
 "metadata": {
  "kernelspec": {
   "display_name": "Python 3",
   "language": "python",
   "name": "python3"
  },
  "language_info": {
   "codemirror_mode": {
    "name": "ipython",
    "version": 3
   },
   "file_extension": ".py",
   "mimetype": "text/x-python",
   "name": "python",
   "nbconvert_exporter": "python",
   "pygments_lexer": "ipython3",
   "version": "3.7.3"
  }
 },
 "nbformat": 4,
 "nbformat_minor": 2
}
